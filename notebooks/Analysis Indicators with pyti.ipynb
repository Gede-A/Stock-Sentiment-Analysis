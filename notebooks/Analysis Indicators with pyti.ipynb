{
 "cells": [
  {
   "cell_type": "code",
   "execution_count": 2,
   "id": "6b3a0a46-53e0-444a-9f8a-fd4dfc79d15d",
   "metadata": {},
   "outputs": [
    {
     "name": "stdout",
     "output_type": "stream",
     "text": [
      "Collecting pytiNote: you may need to restart the kernel to use updated packages.\n",
      "\n",
      "  Downloading pyti-0.2.2-py3-none-any.whl.metadata (719 bytes)\n",
      "Requirement already satisfied: numpy in c:\\users\\craftsoft\\appdata\\local\\programs\\python\\python312\\lib\\site-packages (from pyti) (2.1.0)\n",
      "Requirement already satisfied: pandas in c:\\users\\craftsoft\\appdata\\local\\programs\\python\\python312\\lib\\site-packages (from pyti) (2.2.2)\n",
      "Requirement already satisfied: python-dateutil>=2.8.2 in c:\\users\\craftsoft\\appdata\\local\\programs\\python\\python312\\lib\\site-packages (from pandas->pyti) (2.9.0.post0)\n",
      "Requirement already satisfied: pytz>=2020.1 in c:\\users\\craftsoft\\appdata\\local\\programs\\python\\python312\\lib\\site-packages (from pandas->pyti) (2024.1)\n",
      "Requirement already satisfied: tzdata>=2022.7 in c:\\users\\craftsoft\\appdata\\local\\programs\\python\\python312\\lib\\site-packages (from pandas->pyti) (2024.1)\n",
      "Requirement already satisfied: six>=1.5 in c:\\users\\craftsoft\\appdata\\local\\programs\\python\\python312\\lib\\site-packages (from python-dateutil>=2.8.2->pandas->pyti) (1.16.0)\n",
      "Downloading pyti-0.2.2-py3-none-any.whl (27 kB)\n",
      "Installing collected packages: pyti\n",
      "Successfully installed pyti-0.2.2\n"
     ]
    }
   ],
   "source": [
    "pip install pyti\n"
   ]
  },
  {
   "cell_type": "code",
   "execution_count": 1,
   "id": "4deb1d5c-1c25-4c97-bf41-7d27236ca406",
   "metadata": {},
   "outputs": [
    {
     "name": "stdout",
     "output_type": "stream",
     "text": [
      "<class 'pandas.core.frame.DataFrame'>\n",
      "RangeIndex: 10998 entries, 0 to 10997\n",
      "Data columns (total 9 columns):\n",
      " #   Column        Non-Null Count  Dtype  \n",
      "---  ------        --------------  -----  \n",
      " 0   Date          10998 non-null  object \n",
      " 1   Open          10998 non-null  float64\n",
      " 2   High          10998 non-null  float64\n",
      " 3   Low           10998 non-null  float64\n",
      " 4   Close         10998 non-null  float64\n",
      " 5   Adj Close     10998 non-null  float64\n",
      " 6   Volume        10998 non-null  int64  \n",
      " 7   Dividends     10998 non-null  float64\n",
      " 8   Stock Splits  10998 non-null  float64\n",
      "dtypes: float64(7), int64(1), object(1)\n",
      "memory usage: 773.4+ KB\n",
      "None\n"
     ]
    }
   ],
   "source": [
    "import pandas as pd\n",
    "read_yfinance_data = pd.read_csv('../data/yfinance_data/AAPL_historical_data.csv')\n",
    "finance_data = pd.DataFrame(read_yfinance_data)\n",
    "print(finance_data.info(10))\n",
    "\n",
    "from pyti.relative_strength_index import relative_strength_index as rsi\n",
    "from pyti.moving_average_convergence_divergence import moving_average_convergence_divergence as macd\n",
    "from pyti.simple_moving_average import simple_moving_average as sma\n",
    "from pyti.on_balance_volume import on_balance_volume as obv\n",
    "\n",
    "# Assuming 'finance_data' DataFrame is already loaded and contains the necessary columns.\n",
    "\n",
    "# Extract relevant columns as lists\n",
    "close_prices = finance_data['Close'].tolist()\n",
    "high_prices = finance_data['High'].tolist()\n",
    "low_prices = finance_data['Low'].tolist()\n",
    "volume = finance_data['Volume'].tolist()\n",
    "\n",
    "\n",
    "# 2. Calculate the MACD (12-period short EMA, 26-period long EMA)\n",
    "macd_line = macd(close_prices, short_period=12, long_period=26)\n",
    "\n",
    "# Calculate the 9-period signal line using SMA of the MACD line\n",
    "signal_line = sma(macd_line, period=9)\n",
    "\n",
    "# Calculate the MACD histogram\n",
    "macd_histogram = [m - s for m, s in zip(macd_line, signal_line)]\n",
    "\n",
    "# Add MACD values to the DataFrame\n",
    "finance_data['MACD_Line'] = macd_line\n",
    "finance_data['Signal_Line'] = signal_line\n",
    "finance_data['MACD_Histogram'] = macd_histogram\n",
    "\n",
    "# 3. Calculate Bollinger Bands manually\n",
    "def calculate_bollinger_bands(df, period=20, num_std_dev=2):\n",
    "    df['BB_Middle'] = df['Close'].rolling(window=period).mean()\n",
    "    df['BB_Std_Dev'] = df['Close'].rolling(window=period).std()\n",
    "    df['BB_Upper'] = df['BB_Middle'] + (df['BB_Std_Dev'] * num_std_dev)\n",
    "    df['BB_Lower'] = df['BB_Middle'] - (df['BB_Std_Dev'] * num_std_dev)\n",
    "    return df\n"
   ]
  },
  {
   "cell_type": "code",
   "execution_count": 1,
   "id": "488bb7c3-9d37-4f02-bf04-3e4f31eedb1e",
   "metadata": {},
   "outputs": [
    {
     "name": "stdout",
     "output_type": "stream",
     "text": [
      "Collecting taNote: you may need to restart the kernel to use updated packages.\n",
      "\n",
      "  Using cached ta-0.11.0.tar.gz (25 kB)\n",
      "  Installing build dependencies: started\n",
      "  Installing build dependencies: finished with status 'done'\n",
      "  Getting requirements to build wheel: started\n",
      "  Getting requirements to build wheel: finished with status 'done'\n",
      "  Preparing metadata (pyproject.toml): started\n",
      "  Preparing metadata (pyproject.toml): finished with status 'done'\n",
      "Requirement already satisfied: numpy in c:\\users\\craftsoft\\appdata\\local\\programs\\python\\python312\\lib\\site-packages (from ta) (2.1.0)\n",
      "Requirement already satisfied: pandas in c:\\users\\craftsoft\\appdata\\local\\programs\\python\\python312\\lib\\site-packages (from ta) (2.2.2)\n",
      "Requirement already satisfied: python-dateutil>=2.8.2 in c:\\users\\craftsoft\\appdata\\local\\programs\\python\\python312\\lib\\site-packages (from pandas->ta) (2.9.0.post0)\n",
      "Requirement already satisfied: pytz>=2020.1 in c:\\users\\craftsoft\\appdata\\local\\programs\\python\\python312\\lib\\site-packages (from pandas->ta) (2024.1)\n",
      "Requirement already satisfied: tzdata>=2022.7 in c:\\users\\craftsoft\\appdata\\local\\programs\\python\\python312\\lib\\site-packages (from pandas->ta) (2024.1)\n",
      "Requirement already satisfied: six>=1.5 in c:\\users\\craftsoft\\appdata\\local\\programs\\python\\python312\\lib\\site-packages (from python-dateutil>=2.8.2->pandas->ta) (1.16.0)\n",
      "Building wheels for collected packages: ta\n",
      "  Building wheel for ta (pyproject.toml): started\n",
      "  Building wheel for ta (pyproject.toml): finished with status 'done'\n",
      "  Created wheel for ta: filename=ta-0.11.0-py3-none-any.whl size=29423 sha256=7ecca2b0fc83865e2948635519340336041d67bbe62211b6d516d8f7ce424d4d\n",
      "  Stored in directory: c:\\users\\craftsoft\\appdata\\local\\pip\\cache\\wheels\\5c\\a1\\5f\\c6b85a7d9452057be4ce68a8e45d77ba34234a6d46581777c6\n",
      "Successfully built ta\n",
      "Installing collected packages: ta\n",
      "Successfully installed ta-0.11.0\n"
     ]
    }
   ],
   "source": [
    "pip install ta\n"
   ]
  },
  {
   "cell_type": "code",
   "execution_count": 1,
   "id": "042c9049-1f00-48cf-a421-5fd78107ca12",
   "metadata": {},
   "outputs": [
    {
     "name": "stdout",
     "output_type": "stream",
     "text": [
      "Requirement already satisfied: pyti in c:\\users\\craftsoft\\appdata\\local\\programs\\python\\python312\\lib\\site-packages (0.2.2)\n",
      "Requirement already satisfied: matplotlib in c:\\users\\craftsoft\\appdata\\local\\programs\\python\\python312\\lib\\site-packages (3.9.2)\n",
      "Requirement already satisfied: seaborn in c:\\users\\craftsoft\\appdata\\local\\programs\\python\\python312\\lib\\site-packages (0.13.2)\n",
      "Requirement already satisfied: numpy in c:\\users\\craftsoft\\appdata\\local\\programs\\python\\python312\\lib\\site-packages (from pyti) (2.1.0)\n",
      "Requirement already satisfied: pandas in c:\\users\\craftsoft\\appdata\\local\\programs\\python\\python312\\lib\\site-packages (from pyti) (2.2.2)\n",
      "Requirement already satisfied: contourpy>=1.0.1 in c:\\users\\craftsoft\\appdata\\local\\programs\\python\\python312\\lib\\site-packages (from matplotlib) (1.3.0)\n",
      "Requirement already satisfied: cycler>=0.10 in c:\\users\\craftsoft\\appdata\\local\\programs\\python\\python312\\lib\\site-packages (from matplotlib) (0.12.1)\n",
      "Requirement already satisfied: fonttools>=4.22.0 in c:\\users\\craftsoft\\appdata\\local\\programs\\python\\python312\\lib\\site-packages (from matplotlib) (4.53.1)\n",
      "Requirement already satisfied: kiwisolver>=1.3.1 in c:\\users\\craftsoft\\appdata\\local\\programs\\python\\python312\\lib\\site-packages (from matplotlib) (1.4.5)\n",
      "Requirement already satisfied: packaging>=20.0 in c:\\users\\craftsoft\\appdata\\local\\programs\\python\\python312\\lib\\site-packages (from matplotlib) (24.1)\n",
      "Requirement already satisfied: pillow>=8 in c:\\users\\craftsoft\\appdata\\local\\programs\\python\\python312\\lib\\site-packages (from matplotlib) (10.4.0)\n",
      "Requirement already satisfied: pyparsing>=2.3.1 in c:\\users\\craftsoft\\appdata\\local\\programs\\python\\python312\\lib\\site-packages (from matplotlib) (3.1.4)\n",
      "Requirement already satisfied: python-dateutil>=2.7 in c:\\users\\craftsoft\\appdata\\local\\programs\\python\\python312\\lib\\site-packages (from matplotlib) (2.9.0.post0)\n",
      "Requirement already satisfied: pytz>=2020.1 in c:\\users\\craftsoft\\appdata\\local\\programs\\python\\python312\\lib\\site-packages (from pandas->pyti) (2024.1)\n",
      "Requirement already satisfied: tzdata>=2022.7 in c:\\users\\craftsoft\\appdata\\local\\programs\\python\\python312\\lib\\site-packages (from pandas->pyti) (2024.1)\n",
      "Requirement already satisfied: six>=1.5 in c:\\users\\craftsoft\\appdata\\local\\programs\\python\\python312\\lib\\site-packages (from python-dateutil>=2.7->matplotlib) (1.16.0)\n",
      "Note: you may need to restart the kernel to use updated packages.\n"
     ]
    }
   ],
   "source": [
    "pip install pyti matplotlib seaborn\n"
   ]
  },
  {
   "cell_type": "code",
   "execution_count": 3,
   "id": "22d5980b-726d-453f-898b-b6aeb67125f6",
   "metadata": {},
   "outputs": [
    {
     "name": "stdout",
     "output_type": "stream",
     "text": [
      "               RSI_14\n",
      "Date                 \n",
      "2021-04-06  51.998657\n",
      "2021-04-07  46.751469\n",
      "2021-04-08  45.726804\n",
      "2021-04-09  51.977747\n",
      "2021-04-10  47.545140\n"
     ]
    }
   ],
   "source": [
    "import pandas as pd\n",
    "import numpy as np\n",
    "import ta\n",
    "\n",
    "# Sample data preparation (replace with your actual data loading)\n",
    "finance_data = pd.DataFrame({\n",
    "    'Date': pd.date_range(start='2021-01-01', periods=100),\n",
    "    'Adj Close': np.random.rand(100) * 100\n",
    "})\n",
    "\n",
    "# Set Date as index\n",
    "finance_data.set_index('Date', inplace=True)\n",
    "\n",
    "# Calculate the 14-period Relative Strength Index (RSI)\n",
    "finance_data['RSI_14'] = ta.momentum.RSIIndicator(finance_data['Adj Close'], window=14).rsi()\n",
    "\n",
    "print(finance_data[['RSI_14']].tail())\n"
   ]
  },
  {
   "cell_type": "code",
   "execution_count": null,
   "id": "610cc0c1-415c-422c-853f-72b08eb212a3",
   "metadata": {},
   "outputs": [],
   "source": [
    "# 4. Manually Calculate the 14-period Average True Range (ATR)\n",
    "high_low = finance_data['High'] - finance_data['Low']\n",
    "high_close = (finance_data['High'] - finance_data['Close'].shift()).abs()\n",
    "low_close = (finance_data['Low'] - finance_data['Close'].shift()).abs()"
   ]
  },
  {
   "cell_type": "code",
   "execution_count": 24,
   "id": "81d956ef-3791-4350-8b87-f1295358bece",
   "metadata": {},
   "outputs": [],
   "source": [
    "\n",
    "finance_data = calculate_bollinger_bands(finance_data)\n",
    "\n",
    "true_range = pd.concat([high_low, high_close, low_close], axis=1).max(axis=1)\n",
    "finance_data['ATR_14'] = true_range.rolling(window=14).mean()"
   ]
  },
  {
   "cell_type": "code",
   "execution_count": 25,
   "id": "1e49ff23-b774-4a5a-bf50-c7610e4a726e",
   "metadata": {},
   "outputs": [
    {
     "name": "stdout",
     "output_type": "stream",
     "text": [
      "         Date      Open      High       Low     Close  Adj Close     Volume  \\\n",
      "0  1980-12-12  0.128348  0.128906  0.128348  0.128348   0.098943  469033600   \n",
      "1  1980-12-15  0.122210  0.122210  0.121652  0.121652   0.093781  175884800   \n",
      "2  1980-12-16  0.113281  0.113281  0.112723  0.112723   0.086898  105728000   \n",
      "3  1980-12-17  0.115513  0.116071  0.115513  0.115513   0.089049   86441600   \n",
      "4  1980-12-18  0.118862  0.119420  0.118862  0.118862   0.091630   73449600   \n",
      "5  1980-12-19  0.126116  0.126674  0.126116  0.126116   0.097223   48630400   \n",
      "6  1980-12-22  0.132254  0.132813  0.132254  0.132254   0.101954   37363200   \n",
      "7  1980-12-23  0.137835  0.138393  0.137835  0.137835   0.106257   46950400   \n",
      "8  1980-12-24  0.145089  0.145647  0.145089  0.145089   0.111849   48003200   \n",
      "9  1980-12-26  0.158482  0.159040  0.158482  0.158482   0.122173   55574400   \n",
      "\n",
      "   Dividends  Stock Splits  RSI_14  MACD_Line  Signal_Line  MACD_Histogram  \\\n",
      "0        0.0           0.0     NaN        NaN          NaN             NaN   \n",
      "1        0.0           0.0     NaN        NaN          NaN             NaN   \n",
      "2        0.0           0.0     NaN        NaN          NaN             NaN   \n",
      "3        0.0           0.0     NaN        NaN          NaN             NaN   \n",
      "4        0.0           0.0     NaN        NaN          NaN             NaN   \n",
      "5        0.0           0.0     NaN        NaN          NaN             NaN   \n",
      "6        0.0           0.0     NaN        NaN          NaN             NaN   \n",
      "7        0.0           0.0     NaN        NaN          NaN             NaN   \n",
      "8        0.0           0.0     NaN        NaN          NaN             NaN   \n",
      "9        0.0           0.0     NaN        NaN          NaN             NaN   \n",
      "\n",
      "   BB_Middle  BB_Std_Dev  BB_Upper  BB_Lower  ATR_14          OBV  \n",
      "0        NaN         NaN       NaN       NaN     NaN          1.0  \n",
      "1        NaN         NaN       NaN       NaN     NaN -175884799.0  \n",
      "2        NaN         NaN       NaN       NaN     NaN -281612799.0  \n",
      "3        NaN         NaN       NaN       NaN     NaN -195171199.0  \n",
      "4        NaN         NaN       NaN       NaN     NaN -121721599.0  \n",
      "5        NaN         NaN       NaN       NaN     NaN  -73091199.0  \n",
      "6        NaN         NaN       NaN       NaN     NaN  -35727999.0  \n",
      "7        NaN         NaN       NaN       NaN     NaN   11222401.0  \n",
      "8        NaN         NaN       NaN       NaN     NaN   59225601.0  \n",
      "9        NaN         NaN       NaN       NaN     NaN  114800001.0  \n"
     ]
    }
   ],
   "source": [
    "# 5. Calculate On-Balance Volume (OBV)\n",
    "finance_data['OBV'] = obv(close_prices, volume)\n",
    "\n",
    "# Display the updated DataFrame with the calculated indicators\n",
    "print(finance_data.head(10))"
   ]
  },
  {
   "cell_type": "code",
   "execution_count": 23,
   "id": "ef7af28a-2d91-4083-8b29-11eebb373164",
   "metadata": {},
   "outputs": [
    {
     "name": "stdout",
     "output_type": "stream",
     "text": [
      "             Date        Open        High         Low       Close   Adj Close  \\\n",
      "10993  2024-07-24  224.000000  224.800003  217.130005  218.539993  218.287323   \n",
      "10994  2024-07-25  218.929993  220.850006  214.619995  217.490005  217.238556   \n",
      "10995  2024-07-26  218.699997  219.490005  216.009995  217.960007  217.708008   \n",
      "10996  2024-07-29  216.960007  219.300003  215.750000  218.240005  217.987686   \n",
      "10997  2024-07-30  219.190002  220.330002  216.119995  218.800003  218.547043   \n",
      "\n",
      "         Volume  Dividends  Stock Splits     RSI_14  MACD_Line  Signal_Line  \\\n",
      "10993  61777600        0.0           0.0  48.687742   1.869301     5.074257   \n",
      "10994  51391200        0.0           0.0  47.386437   0.793449     4.421021   \n",
      "10995  41601300        0.0           0.0  48.055700  -0.167054     3.634882   \n",
      "10996  36311800        0.0           0.0  48.476184  -0.848881     2.764427   \n",
      "10997  41643800        0.0           0.0  49.359115  -1.450101     1.881665   \n",
      "\n",
      "       MACD_Histogram   BB_Middle  BB_Std_Dev    BB_Upper    BB_Lower  \\\n",
      "10993       -3.204956  224.228500    6.966712  238.161923  210.295076   \n",
      "10994       -3.627572  224.440500    6.673385  237.787271  211.093729   \n",
      "10995       -3.801935  224.633500    6.409177  237.451853  211.815146   \n",
      "10996       -3.613309  225.014500    5.721927  236.458355  213.570646   \n",
      "10997       -3.331766  225.117001    5.582758  236.282516  213.951485   \n",
      "\n",
      "         ATR_14           OBV  \n",
      "10993  5.467143  1.603591e+11  \n",
      "10994  5.562145  1.603078e+11  \n",
      "10995  5.482145  1.603494e+11  \n",
      "10996  5.519288  1.603857e+11  \n",
      "10997  5.505717  1.604273e+11  \n"
     ]
    }
   ],
   "source": [
    "print(finance_data.tail())"
   ]
  },
  {
   "cell_type": "code",
   "execution_count": 1,
   "id": "a7656e1c-aa30-4f3a-9180-55c30df01e56",
   "metadata": {},
   "outputs": [
    {
     "name": "stdout",
     "output_type": "stream",
     "text": [
      "         Date      Open      High       Low     Close  Adj Close     Volume  \\\n",
      "0  1980-12-12  0.128348  0.128906  0.128348  0.128348   0.098943  469033600   \n",
      "1  1980-12-15  0.122210  0.122210  0.121652  0.121652   0.093781  175884800   \n",
      "2  1980-12-16  0.113281  0.113281  0.112723  0.112723   0.086898  105728000   \n",
      "3  1980-12-17  0.115513  0.116071  0.115513  0.115513   0.089049   86441600   \n",
      "4  1980-12-18  0.118862  0.119420  0.118862  0.118862   0.091630   73449600   \n",
      "5  1980-12-19  0.126116  0.126674  0.126116  0.126116   0.097223   48630400   \n",
      "6  1980-12-22  0.132254  0.132813  0.132254  0.132254   0.101954   37363200   \n",
      "7  1980-12-23  0.137835  0.138393  0.137835  0.137835   0.106257   46950400   \n",
      "8  1980-12-24  0.145089  0.145647  0.145089  0.145089   0.111849   48003200   \n",
      "9  1980-12-26  0.158482  0.159040  0.158482  0.158482   0.122173   55574400   \n",
      "\n",
      "   Dividends  Stock Splits  \n",
      "0        0.0           0.0  \n",
      "1        0.0           0.0  \n",
      "2        0.0           0.0  \n",
      "3        0.0           0.0  \n",
      "4        0.0           0.0  \n",
      "5        0.0           0.0  \n",
      "6        0.0           0.0  \n",
      "7        0.0           0.0  \n",
      "8        0.0           0.0  \n",
      "9        0.0           0.0  \n"
     ]
    },
    {
     "ename": "KeyError",
     "evalue": "'RSI_14'",
     "output_type": "error",
     "traceback": [
      "\u001b[1;31m---------------------------------------------------------------------------\u001b[0m",
      "\u001b[1;31mKeyError\u001b[0m                                  Traceback (most recent call last)",
      "File \u001b[1;32m~\\AppData\\Local\\Programs\\Python\\Python312\\Lib\\site-packages\\pandas\\core\\indexes\\base.py:3805\u001b[0m, in \u001b[0;36mIndex.get_loc\u001b[1;34m(self, key)\u001b[0m\n\u001b[0;32m   3804\u001b[0m \u001b[38;5;28;01mtry\u001b[39;00m:\n\u001b[1;32m-> 3805\u001b[0m     \u001b[38;5;28;01mreturn\u001b[39;00m \u001b[38;5;28;43mself\u001b[39;49m\u001b[38;5;241;43m.\u001b[39;49m\u001b[43m_engine\u001b[49m\u001b[38;5;241;43m.\u001b[39;49m\u001b[43mget_loc\u001b[49m\u001b[43m(\u001b[49m\u001b[43mcasted_key\u001b[49m\u001b[43m)\u001b[49m\n\u001b[0;32m   3806\u001b[0m \u001b[38;5;28;01mexcept\u001b[39;00m \u001b[38;5;167;01mKeyError\u001b[39;00m \u001b[38;5;28;01mas\u001b[39;00m err:\n",
      "File \u001b[1;32mindex.pyx:167\u001b[0m, in \u001b[0;36mpandas._libs.index.IndexEngine.get_loc\u001b[1;34m()\u001b[0m\n",
      "File \u001b[1;32mindex.pyx:196\u001b[0m, in \u001b[0;36mpandas._libs.index.IndexEngine.get_loc\u001b[1;34m()\u001b[0m\n",
      "File \u001b[1;32mpandas\\\\_libs\\\\hashtable_class_helper.pxi:7081\u001b[0m, in \u001b[0;36mpandas._libs.hashtable.PyObjectHashTable.get_item\u001b[1;34m()\u001b[0m\n",
      "File \u001b[1;32mpandas\\\\_libs\\\\hashtable_class_helper.pxi:7089\u001b[0m, in \u001b[0;36mpandas._libs.hashtable.PyObjectHashTable.get_item\u001b[1;34m()\u001b[0m\n",
      "\u001b[1;31mKeyError\u001b[0m: 'RSI_14'",
      "\nThe above exception was the direct cause of the following exception:\n",
      "\u001b[1;31mKeyError\u001b[0m                                  Traceback (most recent call last)",
      "Cell \u001b[1;32mIn[1], line 14\u001b[0m\n\u001b[0;32m     11\u001b[0m fig\u001b[38;5;241m.\u001b[39msuptitle(\u001b[38;5;124m'\u001b[39m\u001b[38;5;124mFinancial Indicators Visualization\u001b[39m\u001b[38;5;124m'\u001b[39m, fontsize\u001b[38;5;241m=\u001b[39m\u001b[38;5;241m16\u001b[39m)\n\u001b[0;32m     13\u001b[0m \u001b[38;5;66;03m# Plot RSI (Relative Strength Index)\u001b[39;00m\n\u001b[1;32m---> 14\u001b[0m sns\u001b[38;5;241m.\u001b[39mlineplot(ax\u001b[38;5;241m=\u001b[39maxes[\u001b[38;5;241m0\u001b[39m, \u001b[38;5;241m0\u001b[39m], x\u001b[38;5;241m=\u001b[39mfinance_data[\u001b[38;5;124m'\u001b[39m\u001b[38;5;124mDate\u001b[39m\u001b[38;5;124m'\u001b[39m], y\u001b[38;5;241m=\u001b[39m\u001b[43mfinance_data\u001b[49m\u001b[43m[\u001b[49m\u001b[38;5;124;43m'\u001b[39;49m\u001b[38;5;124;43mRSI_14\u001b[39;49m\u001b[38;5;124;43m'\u001b[39;49m\u001b[43m]\u001b[49m, color\u001b[38;5;241m=\u001b[39m\u001b[38;5;124m'\u001b[39m\u001b[38;5;124morange\u001b[39m\u001b[38;5;124m'\u001b[39m)\n\u001b[0;32m     15\u001b[0m axes[\u001b[38;5;241m0\u001b[39m, \u001b[38;5;241m0\u001b[39m]\u001b[38;5;241m.\u001b[39maxhline(\u001b[38;5;241m70\u001b[39m, color\u001b[38;5;241m=\u001b[39m\u001b[38;5;124m'\u001b[39m\u001b[38;5;124mred\u001b[39m\u001b[38;5;124m'\u001b[39m, linestyle\u001b[38;5;241m=\u001b[39m\u001b[38;5;124m'\u001b[39m\u001b[38;5;124m--\u001b[39m\u001b[38;5;124m'\u001b[39m, label\u001b[38;5;241m=\u001b[39m\u001b[38;5;124m'\u001b[39m\u001b[38;5;124mOverbought (70)\u001b[39m\u001b[38;5;124m'\u001b[39m)\n\u001b[0;32m     16\u001b[0m axes[\u001b[38;5;241m0\u001b[39m, \u001b[38;5;241m0\u001b[39m]\u001b[38;5;241m.\u001b[39maxhline(\u001b[38;5;241m30\u001b[39m, color\u001b[38;5;241m=\u001b[39m\u001b[38;5;124m'\u001b[39m\u001b[38;5;124mgreen\u001b[39m\u001b[38;5;124m'\u001b[39m, linestyle\u001b[38;5;241m=\u001b[39m\u001b[38;5;124m'\u001b[39m\u001b[38;5;124m--\u001b[39m\u001b[38;5;124m'\u001b[39m, label\u001b[38;5;241m=\u001b[39m\u001b[38;5;124m'\u001b[39m\u001b[38;5;124mOversold (30)\u001b[39m\u001b[38;5;124m'\u001b[39m)\n",
      "File \u001b[1;32m~\\AppData\\Local\\Programs\\Python\\Python312\\Lib\\site-packages\\pandas\\core\\frame.py:4102\u001b[0m, in \u001b[0;36mDataFrame.__getitem__\u001b[1;34m(self, key)\u001b[0m\n\u001b[0;32m   4100\u001b[0m \u001b[38;5;28;01mif\u001b[39;00m \u001b[38;5;28mself\u001b[39m\u001b[38;5;241m.\u001b[39mcolumns\u001b[38;5;241m.\u001b[39mnlevels \u001b[38;5;241m>\u001b[39m \u001b[38;5;241m1\u001b[39m:\n\u001b[0;32m   4101\u001b[0m     \u001b[38;5;28;01mreturn\u001b[39;00m \u001b[38;5;28mself\u001b[39m\u001b[38;5;241m.\u001b[39m_getitem_multilevel(key)\n\u001b[1;32m-> 4102\u001b[0m indexer \u001b[38;5;241m=\u001b[39m \u001b[38;5;28;43mself\u001b[39;49m\u001b[38;5;241;43m.\u001b[39;49m\u001b[43mcolumns\u001b[49m\u001b[38;5;241;43m.\u001b[39;49m\u001b[43mget_loc\u001b[49m\u001b[43m(\u001b[49m\u001b[43mkey\u001b[49m\u001b[43m)\u001b[49m\n\u001b[0;32m   4103\u001b[0m \u001b[38;5;28;01mif\u001b[39;00m is_integer(indexer):\n\u001b[0;32m   4104\u001b[0m     indexer \u001b[38;5;241m=\u001b[39m [indexer]\n",
      "File \u001b[1;32m~\\AppData\\Local\\Programs\\Python\\Python312\\Lib\\site-packages\\pandas\\core\\indexes\\base.py:3812\u001b[0m, in \u001b[0;36mIndex.get_loc\u001b[1;34m(self, key)\u001b[0m\n\u001b[0;32m   3807\u001b[0m     \u001b[38;5;28;01mif\u001b[39;00m \u001b[38;5;28misinstance\u001b[39m(casted_key, \u001b[38;5;28mslice\u001b[39m) \u001b[38;5;129;01mor\u001b[39;00m (\n\u001b[0;32m   3808\u001b[0m         \u001b[38;5;28misinstance\u001b[39m(casted_key, abc\u001b[38;5;241m.\u001b[39mIterable)\n\u001b[0;32m   3809\u001b[0m         \u001b[38;5;129;01mand\u001b[39;00m \u001b[38;5;28many\u001b[39m(\u001b[38;5;28misinstance\u001b[39m(x, \u001b[38;5;28mslice\u001b[39m) \u001b[38;5;28;01mfor\u001b[39;00m x \u001b[38;5;129;01min\u001b[39;00m casted_key)\n\u001b[0;32m   3810\u001b[0m     ):\n\u001b[0;32m   3811\u001b[0m         \u001b[38;5;28;01mraise\u001b[39;00m InvalidIndexError(key)\n\u001b[1;32m-> 3812\u001b[0m     \u001b[38;5;28;01mraise\u001b[39;00m \u001b[38;5;167;01mKeyError\u001b[39;00m(key) \u001b[38;5;28;01mfrom\u001b[39;00m \u001b[38;5;21;01merr\u001b[39;00m\n\u001b[0;32m   3813\u001b[0m \u001b[38;5;28;01mexcept\u001b[39;00m \u001b[38;5;167;01mTypeError\u001b[39;00m:\n\u001b[0;32m   3814\u001b[0m     \u001b[38;5;66;03m# If we have a listlike key, _check_indexing_error will raise\u001b[39;00m\n\u001b[0;32m   3815\u001b[0m     \u001b[38;5;66;03m#  InvalidIndexError. Otherwise we fall through and re-raise\u001b[39;00m\n\u001b[0;32m   3816\u001b[0m     \u001b[38;5;66;03m#  the TypeError.\u001b[39;00m\n\u001b[0;32m   3817\u001b[0m     \u001b[38;5;28mself\u001b[39m\u001b[38;5;241m.\u001b[39m_check_indexing_error(key)\n",
      "\u001b[1;31mKeyError\u001b[0m: 'RSI_14'"
     ]
    },
    {
     "data": {
      "image/png": "[encoded data removed]",
      "text/plain": [
       "<Figure size 1600x1800 with 6 Axes>"
      ]
     },
     "metadata": {},
     "output_type": "display_data"
    }
   ],
   "source": [
    "import matplotlib.pyplot as plt\n",
    "import seaborn as sns\n",
    "\n",
    "import pandas as pd\n",
    "read_yfinance_data = pd.read_csv('../data/yfinance_data/AAPL_historical_data.csv')\n",
    "finance_data = pd.DataFrame(read_yfinance_data)\n",
    "print(finance_data.head(10))\n",
    "\n",
    "# Set up the figure and axes for subplots\n",
    "fig, axes = plt.subplots(nrows=3, ncols=2, figsize=(16, 18))\n",
    "fig.suptitle('Financial Indicators Visualization', fontsize=16)\n",
    "\n",
    "# Plot RSI (Relative Strength Index)\n",
    "sns.lineplot(ax=axes[0, 0], x=finance_data['Date'], y=finance_data['RSI_14'], color='orange')\n",
    "axes[0, 0].axhline(70, color='red', linestyle='--', label='Overbought (70)')\n",
    "axes[0, 0].axhline(30, color='green', linestyle='--', label='Oversold (30)')\n",
    "axes[0, 0].set_title('Relative Strength Index (RSI)')\n",
    "axes[0, 0].set_xlabel('Date')\n",
    "axes[0, 0].set_ylabel('RSI')\n",
    "axes[0, 0].legend()\n",
    "\n",
    "# Plot MACD (Moving Average Convergence Divergence)\n",
    "sns.lineplot(ax=axes[0, 1], x=finance_data['Date'], y=finance_data['MACD_Line'], color='blue', label='MACD Line')\n",
    "sns.lineplot(ax=axes[0, 1], x=finance_data['Date'], y=finance_data['MACD_Signal'], color='orange', label='MACD Signal Line')\n",
    "axes[0, 1].bar(finance_data['Date'], finance_data['MACD_Histogram'], color='grey', alpha=0.5, label='MACD Histogram')\n",
    "axes[0, 1].set_title('MACD')\n",
    "axes[0, 1].set_xlabel('Date')\n",
    "axes[0, 1].set_ylabel('Value')\n",
    "axes[0, 1].legend()\n",
    "\n",
    "# Plot Bollinger Bands\n",
    "sns.lineplot(ax=axes[1, 0], x=finance_data['Date'], y=finance_data['Adj Close'], color='blue', label='Adj Close')\n",
    "sns.lineplot(ax=axes[1, 0], x=finance_data['Date'], y=finance_data['BB_Middle'], color='orange', label='Bollinger Band Middle')\n",
    "sns.lineplot(ax=axes[1, 0], x=finance_data['Date'], y=finance_data['BB_Upper'], color='green', label='Bollinger Band Upper')\n",
    "sns.lineplot(ax=axes[1, 0], x=finance_data['Date'], y=finance_data['BB_Lower'], color='red', label='Bollinger Band Lower')\n",
    "axes[1, 0].fill_between(finance_data['Date'], finance_data['BB_Lower'], finance_data['BB_Upper'], color='grey', alpha=0.2)\n",
    "axes[1, 0].set_title('Bollinger Bands')\n",
    "axes[1, 0].set_xlabel('Date')\n",
    "axes[1, 0].set_ylabel('Price')\n",
    "axes[1, 0].legend()\n",
    "\n",
    "# Plot ATR (Average True Range)\n",
    "sns.lineplot(ax=axes[1, 1], x=finance_data['Date'], y=finance_data['ATR_14'], color='purple')\n",
    "axes[1, 1].set_title('Average True Range (ATR)')\n",
    "axes[1, 1].set_xlabel('Date')\n",
    "axes[1, 1].set_ylabel('ATR')\n",
    "\n",
    "# Plot OBV (On-Balance Volume)\n",
    "sns.lineplot(ax=axes[2, 0], x=finance_data['Date'], y=finance_data['OBV'], color='brown')\n",
    "axes[2, 0].set_title('On-Balance Volume (OBV)')\n",
    "axes[2, 0].set_xlabel('Date')\n",
    "axes[2, 0].set_ylabel('OBV')\n",
    "\n",
    "# Hide the empty subplot\n",
    "axes[2, 1].axis('off')\n",
    "\n",
    "plt.tight_layout(rect=[0, 0, 1, 0.96])\n",
    "plt.show()\n"
   ]
  },
  {
   "cell_type": "code",
   "execution_count": null,
   "id": "abff3be6-4db6-44f6-86f1-44964b7d15c0",
   "metadata": {},
   "outputs": [],
   "source": []
  }
 ],
 "metadata": {
  "kernelspec": {
   "display_name": "Python 3 (ipykernel)",
   "language": "python",
   "name": "python3"
  },
  "language_info": {
   "codemirror_mode": {
    "name": "ipython",
    "version": 3
   },
   "file_extension": ".py",
   "mimetype": "text/x-python",
   "name": "python",
   "nbconvert_exporter": "python",
   "pygments_lexer": "ipython3",
   "version": "3.12.4"
  }
 },
 "nbformat": 4,
 "nbformat_minor": 5
}
