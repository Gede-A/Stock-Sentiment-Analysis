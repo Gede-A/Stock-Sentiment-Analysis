{
 "cells": [
  {
   "cell_type": "code",
   "execution_count": 3,
   "id": "9a235e97-06ea-495f-9560-fa574da920bb",
   "metadata": {},
   "outputs": [
    {
     "name": "stdout",
     "output_type": "stream",
     "text": [
      "   Unnamed: 0                                           headline  \\\n",
      "0           0            Stocks That Hit 52-Week Highs On Friday   \n",
      "1           1         Stocks That Hit 52-Week Highs On Wednesday   \n",
      "2           2                      71 Biggest Movers From Friday   \n",
      "3           3       46 Stocks Moving In Friday's Mid-Day Session   \n",
      "4           4  B of A Securities Maintains Neutral on Agilent...   \n",
      "\n",
      "                                                 url          publisher  \\\n",
      "0  https://www.benzinga.com/news/20/06/16190091/s...  Benzinga Insights   \n",
      "1  https://www.benzinga.com/news/20/06/16170189/s...  Benzinga Insights   \n",
      "2  https://www.benzinga.com/news/20/05/16103463/7...         Lisa Levin   \n",
      "3  https://www.benzinga.com/news/20/05/16095921/4...         Lisa Levin   \n",
      "4  https://www.benzinga.com/news/20/05/16095304/b...         Vick Meyer   \n",
      "\n",
      "                        date stock  \n",
      "0  2020-06-05 10:30:54-04:00     A  \n",
      "1  2020-06-03 10:45:20-04:00     A  \n",
      "2  2020-05-26 04:30:07-04:00     A  \n",
      "3  2020-05-22 12:45:06-04:00     A  \n",
      "4  2020-05-22 11:38:59-04:00     A  \n",
      "         Date      Open      High       Low     Close  Adj Close     Volume  \\\n",
      "0  1980-12-12  0.128348  0.128906  0.128348  0.128348   0.098943  469033600   \n",
      "1  1980-12-15  0.122210  0.122210  0.121652  0.121652   0.093781  175884800   \n",
      "2  1980-12-16  0.113281  0.113281  0.112723  0.112723   0.086898  105728000   \n",
      "3  1980-12-17  0.115513  0.116071  0.115513  0.115513   0.089049   86441600   \n",
      "4  1980-12-18  0.118862  0.119420  0.118862  0.118862   0.091630   73449600   \n",
      "\n",
      "   Dividends  Stock Splits  \n",
      "0        0.0           0.0  \n",
      "1        0.0           0.0  \n",
      "2        0.0           0.0  \n",
      "3        0.0           0.0  \n",
      "4        0.0           0.0  \n"
     ]
    }
   ],
   "source": [
    "import pandas as pd\n",
    "read_News_csv = pd.read_csv('../data/raw_analyst_ratings.csv')\n",
    "read_Finance_csv = pd.read_csv('../data/yfinance_data/AAPL_historical_data.csv')\n",
    "raw_analyst_dataFrame = pd.DataFrame(read_csv)\n",
    "finance_dataFrame = pd.DataFrame(read_Finance_csv)\n",
    "print(raw_analyst_dataFrame.head())\n",
    "print(finance_dataFrame.head())\n"
   ]
  },
  {
   "cell_type": "code",
   "execution_count": 8,
   "id": "046dd600-9c61-478c-92b1-38a6720e881c",
   "metadata": {},
   "outputs": [],
   "source": [
    "raw_analyst_dataFrame['date'] = pd.to_datetime(raw_analyst_dataFrame['date'], errors='coerce')\n",
    "finance_dataFrame['Date'] = pd.to_datetime(finance_dataFrame['Date'])"
   ]
  },
  {
   "cell_type": "code",
   "execution_count": 9,
   "id": "82aeb79e-726f-4db1-95e0-e7213bd8482e",
   "metadata": {},
   "outputs": [
    {
     "name": "stdout",
     "output_type": "stream",
     "text": [
      "   Unnamed: 0                                           headline  \\\n",
      "0           0            Stocks That Hit 52-Week Highs On Friday   \n",
      "1           1         Stocks That Hit 52-Week Highs On Wednesday   \n",
      "2           2                      71 Biggest Movers From Friday   \n",
      "3           3       46 Stocks Moving In Friday's Mid-Day Session   \n",
      "4           4  B of A Securities Maintains Neutral on Agilent...   \n",
      "\n",
      "                                                 url          publisher  \\\n",
      "0  https://www.benzinga.com/news/20/06/16190091/s...  Benzinga Insights   \n",
      "1  https://www.benzinga.com/news/20/06/16170189/s...  Benzinga Insights   \n",
      "2  https://www.benzinga.com/news/20/05/16103463/7...         Lisa Levin   \n",
      "3  https://www.benzinga.com/news/20/05/16095921/4...         Lisa Levin   \n",
      "4  https://www.benzinga.com/news/20/05/16095304/b...         Vick Meyer   \n",
      "\n",
      "                       date stock  \n",
      "0 2020-06-05 10:30:54-04:00     A  \n",
      "1 2020-06-03 10:45:20-04:00     A  \n",
      "2 2020-05-26 04:30:07-04:00     A  \n",
      "3 2020-05-22 12:45:06-04:00     A  \n",
      "4 2020-05-22 11:38:59-04:00     A  \n",
      "        Date      Open      High       Low     Close  Adj Close     Volume  \\\n",
      "0 1980-12-12  0.128348  0.128906  0.128348  0.128348   0.098943  469033600   \n",
      "1 1980-12-15  0.122210  0.122210  0.121652  0.121652   0.093781  175884800   \n",
      "2 1980-12-16  0.113281  0.113281  0.112723  0.112723   0.086898  105728000   \n",
      "3 1980-12-17  0.115513  0.116071  0.115513  0.115513   0.089049   86441600   \n",
      "4 1980-12-18  0.118862  0.119420  0.118862  0.118862   0.091630   73449600   \n",
      "\n",
      "   Dividends  Stock Splits  \n",
      "0        0.0           0.0  \n",
      "1        0.0           0.0  \n",
      "2        0.0           0.0  \n",
      "3        0.0           0.0  \n",
      "4        0.0           0.0  \n"
     ]
    }
   ],
   "source": [
    "print(raw_analyst_dataFrame.head())\n",
    "print(finance_dataFrame.head())"
   ]
  },
  {
   "cell_type": "code",
   "execution_count": 10,
   "id": "0242bf17-2d16-4513-88b2-b1c25c4ebddd",
   "metadata": {},
   "outputs": [],
   "source": [
    "raw_analyst_dataFrame['date'] = raw_analyst_dataFrame['date'].dt.normalize()\n",
    "finance_dataFrame['Date'] = finance_dataFrame['Date'].dt.normalize()"
   ]
  },
  {
   "cell_type": "code",
   "execution_count": 22,
   "id": "8a0aae8c-0971-4649-8914-436128aca0ba",
   "metadata": {},
   "outputs": [],
   "source": [
    "# merged_data = pd.merge(raw_analyst_dataFrame, finance_dataFrame, on = 'Date', how, = 'inner')\n",
    "finance_dataFrame.rename(columns = {'Date':'date'}, inplace = True)\n",
    "raw_analyst_dataFrame['date'] = raw_analyst_dataFrame['date'].dt.tz_localize('UTC').dt.tz_convert('America/New_York')\n",
    "finance_dataFrame['date'] = finance_dataFrame['date'].dt.tz_localize('UTC').dt.tz_convert('America/New_York')\n",
    "merged_data = pd.merge(raw_analyst_dataFrame, finance_dataFrame, on='date', how='inner')"
   ]
  },
  {
   "cell_type": "code",
   "execution_count": null,
   "id": "253f8dfd-7dad-43b6-80ed-8f1c06ae34a1",
   "metadata": {},
   "outputs": [],
   "source": []
  }
 ],
 "metadata": {
  "kernelspec": {
   "display_name": "Python 3 (ipykernel)",
   "language": "python",
   "name": "python3"
  },
  "language_info": {
   "codemirror_mode": {
    "name": "ipython",
    "version": 3
   },
   "file_extension": ".py",
   "mimetype": "text/x-python",
   "name": "python",
   "nbconvert_exporter": "python",
   "pygments_lexer": "ipython3",
   "version": "3.12.4"
  }
 },
 "nbformat": 4,
 "nbformat_minor": 5
}
