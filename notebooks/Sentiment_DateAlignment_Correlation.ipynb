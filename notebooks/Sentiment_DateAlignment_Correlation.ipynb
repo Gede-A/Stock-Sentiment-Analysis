{
 "cells": [
  {
   "cell_type": "code",
   "execution_count": 2,
   "id": "9a235e97-06ea-495f-9560-fa574da920bb",
   "metadata": {},
   "outputs": [
    {
     "name": "stdout",
     "output_type": "stream",
     "text": [
      "   Unnamed: 0                                           headline  \\\n",
      "0           0            Stocks That Hit 52-Week Highs On Friday   \n",
      "1           1         Stocks That Hit 52-Week Highs On Wednesday   \n",
      "2           2                      71 Biggest Movers From Friday   \n",
      "3           3       46 Stocks Moving In Friday's Mid-Day Session   \n",
      "4           4  B of A Securities Maintains Neutral on Agilent...   \n",
      "\n",
      "                                                 url          publisher  \\\n",
      "0  https://www.benzinga.com/news/20/06/16190091/s...  Benzinga Insights   \n",
      "1  https://www.benzinga.com/news/20/06/16170189/s...  Benzinga Insights   \n",
      "2  https://www.benzinga.com/news/20/05/16103463/7...         Lisa Levin   \n",
      "3  https://www.benzinga.com/news/20/05/16095921/4...         Lisa Levin   \n",
      "4  https://www.benzinga.com/news/20/05/16095304/b...         Vick Meyer   \n",
      "\n",
      "                        date stock  \n",
      "0  2020-06-05 10:30:54-04:00     A  \n",
      "1  2020-06-03 10:45:20-04:00     A  \n",
      "2  2020-05-26 04:30:07-04:00     A  \n",
      "3  2020-05-22 12:45:06-04:00     A  \n",
      "4  2020-05-22 11:38:59-04:00     A  \n",
      "         Date      Open      High       Low     Close  Adj Close     Volume  \\\n",
      "0  1980-12-12  0.128348  0.128906  0.128348  0.128348   0.098943  469033600   \n",
      "1  1980-12-15  0.122210  0.122210  0.121652  0.121652   0.093781  175884800   \n",
      "2  1980-12-16  0.113281  0.113281  0.112723  0.112723   0.086898  105728000   \n",
      "3  1980-12-17  0.115513  0.116071  0.115513  0.115513   0.089049   86441600   \n",
      "4  1980-12-18  0.118862  0.119420  0.118862  0.118862   0.091630   73449600   \n",
      "\n",
      "   Dividends  Stock Splits  \n",
      "0        0.0           0.0  \n",
      "1        0.0           0.0  \n",
      "2        0.0           0.0  \n",
      "3        0.0           0.0  \n",
      "4        0.0           0.0  \n"
     ]
    }
   ],
   "source": [
    "import pandas as pd\n",
    "read_News_csv = pd.read_csv('../data/raw_analyst_ratings.csv')\n",
    "raw_analyst_dataFrame = pd.DataFrame(read_News_csv)\n",
    "\n",
    "read_Finance_csv = pd.read_csv('../data/yfinance_data/AAPL_historical_data.csv')\n",
    "finance_dataFrame = pd.DataFrame(read_Finance_csv)\n",
    "print(raw_analyst_dataFrame.head())\n",
    "print(finance_dataFrame.head())\n"
   ]
  },
  {
   "cell_type": "code",
   "execution_count": 8,
   "id": "046dd600-9c61-478c-92b1-38a6720e881c",
   "metadata": {},
   "outputs": [],
   "source": [
    "raw_analyst_dataFrame['date'] = pd.to_datetime(raw_analyst_dataFrame['date'], errors='coerce')\n",
    "finance_dataFrame['Date'] = pd.to_datetime(finance_dataFrame['Date'])"
   ]
  },
  {
   "cell_type": "code",
   "execution_count": 9,
   "id": "82aeb79e-726f-4db1-95e0-e7213bd8482e",
   "metadata": {},
   "outputs": [
    {
     "name": "stdout",
     "output_type": "stream",
     "text": [
      "   Unnamed: 0                                           headline  \\\n",
      "0           0            Stocks That Hit 52-Week Highs On Friday   \n",
      "1           1         Stocks That Hit 52-Week Highs On Wednesday   \n",
      "2           2                      71 Biggest Movers From Friday   \n",
      "3           3       46 Stocks Moving In Friday's Mid-Day Session   \n",
      "4           4  B of A Securities Maintains Neutral on Agilent...   \n",
      "\n",
      "                                                 url          publisher  \\\n",
      "0  https://www.benzinga.com/news/20/06/16190091/s...  Benzinga Insights   \n",
      "1  https://www.benzinga.com/news/20/06/16170189/s...  Benzinga Insights   \n",
      "2  https://www.benzinga.com/news/20/05/16103463/7...         Lisa Levin   \n",
      "3  https://www.benzinga.com/news/20/05/16095921/4...         Lisa Levin   \n",
      "4  https://www.benzinga.com/news/20/05/16095304/b...         Vick Meyer   \n",
      "\n",
      "                       date stock  \n",
      "0 2020-06-05 10:30:54-04:00     A  \n",
      "1 2020-06-03 10:45:20-04:00     A  \n",
      "2 2020-05-26 04:30:07-04:00     A  \n",
      "3 2020-05-22 12:45:06-04:00     A  \n",
      "4 2020-05-22 11:38:59-04:00     A  \n",
      "        Date      Open      High       Low     Close  Adj Close     Volume  \\\n",
      "0 1980-12-12  0.128348  0.128906  0.128348  0.128348   0.098943  469033600   \n",
      "1 1980-12-15  0.122210  0.122210  0.121652  0.121652   0.093781  175884800   \n",
      "2 1980-12-16  0.113281  0.113281  0.112723  0.112723   0.086898  105728000   \n",
      "3 1980-12-17  0.115513  0.116071  0.115513  0.115513   0.089049   86441600   \n",
      "4 1980-12-18  0.118862  0.119420  0.118862  0.118862   0.091630   73449600   \n",
      "\n",
      "   Dividends  Stock Splits  \n",
      "0        0.0           0.0  \n",
      "1        0.0           0.0  \n",
      "2        0.0           0.0  \n",
      "3        0.0           0.0  \n",
      "4        0.0           0.0  \n"
     ]
    }
   ],
   "source": [
    "print(raw_analyst_dataFrame.head())\n",
    "print(finance_dataFrame.head())"
   ]
  },
  {
   "cell_type": "code",
   "execution_count": 10,
   "id": "0242bf17-2d16-4513-88b2-b1c25c4ebddd",
   "metadata": {},
   "outputs": [],
   "source": [
    "raw_analyst_dataFrame['date'] = raw_analyst_dataFrame['date'].dt.normalize()\n",
    "finance_dataFrame['Date'] = finance_dataFrame['Date'].dt.normalize()"
   ]
  },
  {
   "cell_type": "code",
   "execution_count": null,
   "id": "8a0aae8c-0971-4649-8914-436128aca0ba",
   "metadata": {},
   "outputs": [],
   "source": [
    "# merged_data = pd.merge(raw_analyst_dataFrame, finance_dataFrame, on = 'Date', how, = 'inner')\n",
    "finance_dataFrame.rename(columns = {'Date':'date'}, inplace = True)\n",
    "raw_analyst_dataFrame['date'] = raw_analyst_dataFrame['date'].dt.tz_convert('America/New_York')\n",
    "finance_dataFrame['date'] = finance_dataFrame['date'].dt.tz_convert('America/New_York')\n",
    "merged_data = pd.merge(raw_analyst_dataFrame, finance_dataFrame, on='date', how='inner')\n",
    "# merged_data = merged_data[['date', 'Open', 'Close', 'High', 'Low', 'Volume']]"
   ]
  },
  {
   "cell_type": "code",
   "execution_count": 72,
   "id": "253f8dfd-7dad-43b6-80ed-8f1c06ae34a1",
   "metadata": {},
   "outputs": [
    {
     "name": "stdout",
     "output_type": "stream",
     "text": [
      "Empty DataFrame\n",
      "Columns: [Unnamed: 0, headline, url, publisher, date, stock, Open, High, Low, Close, Adj Close, Volume, Dividends, Stock Splits]\n",
      "Index: []\n"
     ]
    }
   ],
   "source": [
    "merged_data.dropna(inplace = True)\n",
    "print(merged_data.head())"
   ]
  },
  {
   "cell_type": "code",
   "execution_count": 1,
   "id": "8ae7ca0f-85e7-4f3a-b79d-357dd776f1d7",
   "metadata": {},
   "outputs": [
    {
     "name": "stdout",
     "output_type": "stream",
     "text": [
      "                                            headline  sentiment_score  \\\n",
      "0            Stocks That Hit 52-Week Highs On Friday            0.000   \n",
      "1         Stocks That Hit 52-Week Highs On Wednesday            0.000   \n",
      "2                      71 Biggest Movers From Friday            0.000   \n",
      "3       46 Stocks Moving In Friday's Mid-Day Session            0.000   \n",
      "4  B of A Securities Maintains Neutral on Agilent...            0.296   \n",
      "\n",
      "  sentiment  \n",
      "0   neutral  \n",
      "1   neutral  \n",
      "2   neutral  \n",
      "3   neutral  \n",
      "4  positive  \n"
     ]
    },
    {
     "data": {
      "image/png": "[encoded data removed]",
      "text/plain": [
       "<Figure size 640x480 with 1 Axes>"
      ]
     },
     "metadata": {},
     "output_type": "display_data"
    },
    {
     "name": "stdout",
     "output_type": "stream",
     "text": [
      "          date_x        Open        High         Low       Close   Adj Close  \\\n",
      "0     1980-12-12    0.128348    0.128906    0.128348    0.128348    0.098943   \n",
      "1     1980-12-15    0.122210    0.122210    0.121652    0.121652    0.093781   \n",
      "2     1980-12-16    0.113281    0.113281    0.112723    0.112723    0.086898   \n",
      "3     1980-12-17    0.115513    0.116071    0.115513    0.115513    0.089049   \n",
      "4     1980-12-18    0.118862    0.119420    0.118862    0.118862    0.091630   \n",
      "...          ...         ...         ...         ...         ...         ...   \n",
      "10993 2024-07-24  224.000000  224.800003  217.130005  218.539993  218.287323   \n",
      "10994 2024-07-25  218.929993  220.850006  214.619995  217.490005  217.238556   \n",
      "10995 2024-07-26  218.699997  219.490005  216.009995  217.960007  217.708008   \n",
      "10996 2024-07-29  216.960007  219.300003  215.750000  218.240005  217.987686   \n",
      "10997 2024-07-30  219.190002  220.330002  216.119995  218.800003  218.547043   \n",
      "\n",
      "          Volume  Dividends  Stock Splits  Daily_Return  Unnamed: 0  \\\n",
      "0      469033600        0.0           0.0           NaN           0   \n",
      "1      175884800        0.0           0.0     -0.052171           1   \n",
      "2      105728000        0.0           0.0     -0.073398           2   \n",
      "3       86441600        0.0           0.0      0.024751           3   \n",
      "4       73449600        0.0           0.0      0.028992           4   \n",
      "...          ...        ...           ...           ...         ...   \n",
      "10993   61777600        0.0           0.0     -0.028754       11482   \n",
      "10994   51391200        0.0           0.0     -0.004805       11483   \n",
      "10995   41601300        0.0           0.0      0.002161       11484   \n",
      "10996   36311800        0.0           0.0      0.001285       11485   \n",
      "10997   41643800        0.0           0.0      0.002566       11486   \n",
      "\n",
      "                                                headline  \\\n",
      "0                Stocks That Hit 52-Week Highs On Friday   \n",
      "1             Stocks That Hit 52-Week Highs On Wednesday   \n",
      "2                          71 Biggest Movers From Friday   \n",
      "3           46 Stocks Moving In Friday's Mid-Day Session   \n",
      "4      B of A Securities Maintains Neutral on Agilent...   \n",
      "...                                                  ...   \n",
      "10993  Stocks Which Set New 52-Week Low Yesterday, Se...   \n",
      "10994  Stocks Which Set New 52-Week Low Yesterday, Se...   \n",
      "10995  Stocks Trading Ex Dividend For Thurs., Aug. 30...   \n",
      "10996  Stocks That Will Trading Ex Dividend Thursday,...   \n",
      "10997  Benzinga's Top Upgrades, Downgrades For August...   \n",
      "\n",
      "                                                     url          publisher  \\\n",
      "0      https://www.benzinga.com/news/20/06/16190091/s...  Benzinga Insights   \n",
      "1      https://www.benzinga.com/news/20/06/16170189/s...  Benzinga Insights   \n",
      "2      https://www.benzinga.com/news/20/05/16103463/7...         Lisa Levin   \n",
      "3      https://www.benzinga.com/news/20/05/16095921/4...         Lisa Levin   \n",
      "4      https://www.benzinga.com/news/20/05/16095304/b...         Vick Meyer   \n",
      "...                                                  ...                ...   \n",
      "10993  https://www.benzinga.com/trading-ideas/technic...  Benzinga Newsdesk   \n",
      "10994  https://www.benzinga.com/trading-ideas/technic...  Benzinga Newsdesk   \n",
      "10995  https://www.benzinga.com/news/18/08/12284032/s...  luke@benzinga.com   \n",
      "10996  https://www.benzinga.com/news/18/08/12277060/s...  Benzinga Newsdesk   \n",
      "10997  https://www.benzinga.com/analyst-ratings/upgra...         Lisa Levin   \n",
      "\n",
      "                         date_y stock  sentiment_score sentiment  \n",
      "0     2020-06-05 10:30:54-04:00     A           0.0000   neutral  \n",
      "1     2020-06-03 10:45:20-04:00     A           0.0000   neutral  \n",
      "2     2020-05-26 04:30:07-04:00     A           0.0000   neutral  \n",
      "3     2020-05-22 12:45:06-04:00     A           0.0000   neutral  \n",
      "4     2020-05-22 11:38:59-04:00     A           0.2960  positive  \n",
      "...                         ...   ...              ...       ...  \n",
      "10993                       NaT   ABX          -0.2732  negative  \n",
      "10994                       NaT   ABX          -0.2732  negative  \n",
      "10995                       NaT   ABX           0.0000   neutral  \n",
      "10996                       NaT   ABX           0.0000   neutral  \n",
      "10997                       NaT   ABX           0.2023  positive  \n",
      "\n",
      "[10998 rows x 18 columns]\n",
      "Correlation between Daily Returns and Sentiment Scores: -0.01\n"
     ]
    }
   ],
   "source": [
    "# Perform sentiment analysis on headlines\n",
    "import pandas as pd\n",
    "\n",
    "read_Finance_csv = pd.read_csv('../data/yfinance_data/AAPL_historical_data.csv')\n",
    "finance_dataFrame = pd.DataFrame(read_Finance_csv)\n",
    "\n",
    "read_News_csv = pd.read_csv('../data/raw_analyst_ratings.csv')\n",
    "raw_analyst_dataFrame = pd.DataFrame(read_News_csv)\n",
    "\n",
    "\n",
    "\n",
    "import nltk\n",
    "from nltk.sentiment.vader import SentimentIntensityAnalyzer\n",
    "from sklearn.feature_extraction.text import CountVectorizer\n",
    "from sklearn.decomposition import LatentDirichletAllocation\n",
    "import matplotlib.pyplot as plt\n",
    "\n",
    "\n",
    "sid = SentimentIntensityAnalyzer()\n",
    "raw_analyst_dataFrame['sentiment_score'] = raw_analyst_dataFrame['headline'].apply(lambda x: sid.polarity_scores(x)['compound'])\n",
    "raw_analyst_dataFrame['sentiment'] = raw_analyst_dataFrame['sentiment_score'].apply(\n",
    "    lambda score: 'positive' if score > 0 else 'negative' if score < 0 else 'neutral'\n",
    "\n",
    ")\n",
    "# Display the first few rows to check the sentiment analysis results\n",
    "print(raw_analyst_dataFrame[['headline', 'sentiment_score', 'sentiment']].head())\n",
    "\n",
    "# Plot the distribution of sentiments\n",
    "raw_analyst_dataFrame['sentiment'].value_counts().plot(kind='bar', title='Sentiment Distribution')\n",
    "plt.show()\n",
    "\n",
    "\n",
    "\n",
    "finance_dataFrame.rename(columns = {'Date':'date'}, inplace = True)\n",
    "\n",
    "\n",
    "# Convert the Date column to datetime\n",
    "finance_dataFrame['date'] = pd.to_datetime(finance_dataFrame['date'], errors='coerce')\n",
    "# finance_dataFrame.set_index('date', inplace=True)\n",
    "\n",
    "# Calculate Daily Returns\n",
    "finance_dataFrame['Daily_Return'] = finance_dataFrame['Adj Close'].pct_change()\n",
    "\n",
    "# Convert the Date column to datetime\n",
    "raw_analyst_dataFrame['date'] = pd.to_datetime(raw_analyst_dataFrame['date'], errors='coerce')\n",
    "# raw_analyst_dataFrame.set_index('date', inplace=True)\n",
    "\n",
    "# Merge the two DataFrames on 'Date'\n",
    "combined_data = pd.merge(finance_dataFrame, raw_analyst_dataFrame, left_index=True, right_index=True, how='left')\n",
    "\n",
    "# Display the combined DataFrame\n",
    "print(combined_data)\n",
    "\n",
    "# Calculate correlation between Daily_Return and Sentiment_Score\n",
    "correlation = combined_data[['Daily_Return', 'sentiment_score']].corr().iloc[0, 1]\n",
    "print(f'Correlation between Daily Returns and Sentiment Scores: {correlation:.2f}')\n",
    "\n"
   ]
  },
  {
   "cell_type": "code",
   "execution_count": null,
   "id": "66a07611-7635-449d-b47e-37178f76d48a",
   "metadata": {},
   "outputs": [],
   "source": []
  },
  {
   "cell_type": "code",
   "execution_count": null,
   "id": "48267b23-2d2c-4a99-aee2-f76b22a06928",
   "metadata": {},
   "outputs": [],
   "source": []
  }
 ],
 "metadata": {
  "kernelspec": {
   "display_name": "Python 3 (ipykernel)",
   "language": "python",
   "name": "python3"
  },
  "language_info": {
   "codemirror_mode": {
    "name": "ipython",
    "version": 3
   },
   "file_extension": ".py",
   "mimetype": "text/x-python",
   "name": "python",
   "nbconvert_exporter": "python",
   "pygments_lexer": "ipython3",
   "version": "3.12.4"
  }
 },
 "nbformat": 4,
 "nbformat_minor": 5
}
